{
 "cells": [
  {
   "cell_type": "code",
   "execution_count": 1,
   "metadata": {},
   "outputs": [
    {
     "name": "stdout",
     "output_type": "stream",
     "text": [
      "   Unnamed: 0      nt     nx     ny     nz  n_sub  n_cores  core_hours\n",
      "0           0  4923.0  407.0  541.0  120.0  77592    160.0    7.866667\n",
      "1           1  4923.0  407.0  541.0  120.0  77592    160.0    7.333333\n",
      "2           2  4923.0  407.0  541.0  120.0  77592    160.0    7.733333\n",
      "3           3  4923.0  407.0  541.0  120.0  77592    160.0    7.466667\n",
      "4           4  4923.0  407.0  541.0  120.0  77592    160.0    7.244444\n"
     ]
    }
   ],
   "source": [
    "import pandas as pd\n",
    "df = pd.read_csv('EMOD3D_corehour_data.csv')\n",
    "print(df.head())"
   ]
  },
  {
   "cell_type": "code",
   "execution_count": 4,
   "metadata": {},
   "outputs": [
    {
     "name": "stdout",
     "output_type": "stream",
     "text": [
      "number of rows: 16906\n"
     ]
    }
   ],
   "source": [
    "print(f'number of rows: {df.shape[0]}')"
   ]
  },
  {
   "cell_type": "code",
   "execution_count": 5,
   "metadata": {},
   "outputs": [
    {
     "data": {
      "text/plain": [
       "(array([1.4146e+04, 1.6240e+03, 8.3200e+02, 1.1800e+02, 4.9000e+01,\n",
       "        5.5000e+01, 1.3000e+01, 1.0000e+01, 2.0000e+01, 3.9000e+01]),\n",
       " array([   0.        ,  126.52888889,  253.05777778,  379.58666667,\n",
       "         506.11555556,  632.64444444,  759.17333333,  885.70222222,\n",
       "        1012.23111111, 1138.76      , 1265.28888889]),\n",
       " <a list of 10 Patch objects>)"
      ]
     },
     "execution_count": 5,
     "metadata": {},
     "output_type": "execute_result"
    },
    {
     "data": {
      "image/png": "[encoded data removed]",
      "text/plain": [
       "<Figure size 432x288 with 1 Axes>"
      ]
     },
     "metadata": {
      "needs_background": "light"
     },
     "output_type": "display_data"
    }
   ],
   "source": [
    "from matplotlib import pylab\n",
    "pylab.hist(df['core_hours'])"
   ]
  },
  {
   "cell_type": "code",
   "execution_count": 11,
   "metadata": {},
   "outputs": [],
   "source": [
    "from sklearn.model_selection import train_test_split\n",
    "X = df[['nt', 'nx', 'ny', 'nz', 'n_sub', 'n_cores']]\n",
    "y = df['core_hours']\n",
    "X_train, X_test, y_train, y_test = train_test_split(X, y, test_size=0.3, random_state=12)"
   ]
  },
  {
   "cell_type": "code",
   "execution_count": 12,
   "metadata": {},
   "outputs": [
    {
     "data": {
      "text/plain": [
       "1265.2888888888888"
      ]
     },
     "execution_count": 12,
     "metadata": {},
     "output_type": "execute_result"
    }
   ],
   "source": [
    "max(y_test)"
   ]
  },
  {
   "cell_type": "code",
   "execution_count": 13,
   "metadata": {},
   "outputs": [
    {
     "data": {
      "text/plain": [
       "1240.7111111111112"
      ]
     },
     "execution_count": 13,
     "metadata": {},
     "output_type": "execute_result"
    }
   ],
   "source": [
    "max(y_train)"
   ]
  },
  {
   "cell_type": "code",
   "execution_count": 14,
   "metadata": {},
   "outputs": [],
   "source": [
    "X_train.to_csv('emod3d_train_x.csv', header=True, index=False)\n",
    "y_train.to_csv('emod3d_train_y.csv', header=True, index=False)\n",
    "X_test.to_csv('emod3d_test_x.csv', header=True, index=False)\n",
    "y_test.to_csv('emod3d_test_y.csv', header=True, index=False)"
   ]
  },
  {
   "cell_type": "code",
   "execution_count": null,
   "metadata": {},
   "outputs": [],
   "source": []
  }
 ],
 "metadata": {
  "kernelspec": {
   "display_name": "Python 3",
   "language": "python",
   "name": "python3"
  },
  "language_info": {
   "codemirror_mode": {
    "name": "ipython",
    "version": 3
   },
   "file_extension": ".py",
   "mimetype": "text/x-python",
   "name": "python",
   "nbconvert_exporter": "python",
   "pygments_lexer": "ipython3",
   "version": "3.7.4"
  }
 },
 "nbformat": 4,
 "nbformat_minor": 2
}
